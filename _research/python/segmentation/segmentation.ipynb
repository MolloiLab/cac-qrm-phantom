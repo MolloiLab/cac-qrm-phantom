{
 "cells": [
  {
   "cell_type": "markdown",
   "metadata": {},
   "source": [
    "## Imports"
   ]
  },
  {
   "cell_type": "code",
   "execution_count": 335,
   "metadata": {},
   "outputs": [],
   "source": [
    "import numpy as np\n",
    "np.seterr(all='ignore')\n",
    "import os, os.path\n",
    "import pydicom\n",
    "import cv2\n",
    "import math\n",
    "import matplotlib.pyplot as plt\n",
    "import scipy.ndimage\n",
    "import scipy.signal\n",
    "import statistics\n",
    "from itertools import *"
   ]
  },
  {
   "cell_type": "markdown",
   "metadata": {},
   "source": [
    "## `dcm_list_builder`"
   ]
  },
  {
   "cell_type": "code",
   "execution_count": 336,
   "metadata": {},
   "outputs": [],
   "source": [
    "def dcm_list_builder(path, test_text = \"\"):\n",
    "    # function to get list of dcm_files from dcm directory\n",
    "    dcm_path_list = []\n",
    "    for (dirpath, dirnames, filenames) in os.walk(path, topdown=True):\n",
    "        if dirpath not in dcm_path_list:\n",
    "            for filename in filenames:\n",
    "                try:\n",
    "                    tmp_str = str(os.path.join(dirpath, filename))\n",
    "                    ds = pydicom.read_file(tmp_str, stop_before_pixels = True)\n",
    "                    if dirpath not in dcm_path_list:\n",
    "                        dcm_path_list.append(dirpath)\n",
    "                except:\n",
    "                    pass\n",
    "            else:\n",
    "                pass\n",
    "    return dcm_path_list"
   ]
  },
  {
   "cell_type": "markdown",
   "metadata": {},
   "source": [
    "## `dcm_reader`"
   ]
  },
  {
   "cell_type": "code",
   "execution_count": 337,
   "metadata": {},
   "outputs": [],
   "source": [
    "def dcm_reader(dcm_path):\n",
    "    dcm_files = []\n",
    "    for (dirpath, dirnames, filenames) in os.walk(dcm_path,topdown=False):\n",
    "        for filename in filenames:\n",
    "            try:\n",
    "                if not filename == 'DIRFILE':   \n",
    "                    dcm_file = str(os.path.join(dirpath, filename))\n",
    "                    pydicom.read_file(dcm_file, stop_before_pixels = True)\n",
    "                    dcm_files.append(dcm_file)\n",
    "            except:\n",
    "                pass\n",
    "\n",
    "    read_RefDs = True\n",
    "    while read_RefDs:\n",
    "        for index in range(len(dcm_files)):\n",
    "            try:\n",
    "                RefDs = pydicom.read_file(dcm_files[index], stop_before_pixels = False)\n",
    "                read_RefDs = False\n",
    "                break\n",
    "            except:\n",
    "                pass\n",
    "    \n",
    "    slice_thick_ori = RefDs.SliceThickness\n",
    "    \n",
    "    ConstPixelDims = (int(RefDs.Rows), int(RefDs.Columns), len(dcm_files))\n",
    "    dcm_array = np.zeros([ConstPixelDims[0],ConstPixelDims[1],len(dcm_files)],\\\n",
    "                          dtype=RefDs.pixel_array.dtype) \n",
    "\n",
    "    instances = []    \n",
    "    for filenameDCM in dcm_files:\n",
    "        try:\n",
    "            ds = pydicom.read_file(filenameDCM, stop_before_pixels = True)\n",
    "            instances.append(int(ds.InstanceNumber))\n",
    "        except:\n",
    "            pass\n",
    "    \n",
    "    instances.sort()\n",
    "\n",
    "    index = 0\n",
    "    for filenameDCM in dcm_files:\n",
    "        try:\n",
    "            ds = pydicom.read_file(filenameDCM)\n",
    "            dcm_array[:,:,instances.index(ds.InstanceNumber)] = ds.pixel_array\n",
    "            if ds.InstanceNumber in instances[:2]:\n",
    "                if ds.InstanceNumber == instances[0]:\n",
    "                    loc_1 = ds.SliceLocation\n",
    "                else:\n",
    "                    loc_2 = ds.SliceLocation\n",
    "            index += 1\n",
    "        except:\n",
    "            pass\n",
    "        \n",
    "    try:\n",
    "        RefDs.SliceThickness = abs(loc_1 - loc_2)\n",
    "    except:\n",
    "        pass\n",
    "        \n",
    "        \n",
    "    dcm_array = dcm_array * RefDs.RescaleSlope + RefDs.RescaleIntercept\n",
    "    return RefDs, dcm_array, slice_thick_ori"
   ]
  },
  {
   "cell_type": "markdown",
   "metadata": {},
   "source": [
    "## Load DICOMs"
   ]
  },
  {
   "cell_type": "code",
   "execution_count": 338,
   "metadata": {},
   "outputs": [],
   "source": [
    "root_path = r\"/Users/daleblack/Google Drive/Datasets/Canon_Aquilion_One_Vision\""
   ]
  },
  {
   "cell_type": "code",
   "execution_count": 339,
   "metadata": {},
   "outputs": [],
   "source": [
    "dcm_path_list = dcm_list_builder(root_path)"
   ]
  },
  {
   "cell_type": "code",
   "execution_count": 340,
   "metadata": {},
   "outputs": [
    {
     "data": {
      "text/plain": [
       "['/Users/daleblack/Google Drive/Datasets/Canon_Aquilion_One_Vision/Large_rep1',\n",
       " '/Users/daleblack/Google Drive/Datasets/Canon_Aquilion_One_Vision/Small_rep1',\n",
       " '/Users/daleblack/Google Drive/Datasets/Canon_Aquilion_One_Vision/Large_rep3',\n",
       " '/Users/daleblack/Google Drive/Datasets/Canon_Aquilion_One_Vision/Large_rep4',\n",
       " '/Users/daleblack/Google Drive/Datasets/Canon_Aquilion_One_Vision/Large_rep5',\n",
       " '/Users/daleblack/Google Drive/Datasets/Canon_Aquilion_One_Vision/Large_rep2',\n",
       " '/Users/daleblack/Google Drive/Datasets/Canon_Aquilion_One_Vision/Small_rep4',\n",
       " '/Users/daleblack/Google Drive/Datasets/Canon_Aquilion_One_Vision/Small_rep3',\n",
       " '/Users/daleblack/Google Drive/Datasets/Canon_Aquilion_One_Vision/Small_rep2',\n",
       " '/Users/daleblack/Google Drive/Datasets/Canon_Aquilion_One_Vision/Small_rep5']"
      ]
     },
     "execution_count": 340,
     "metadata": {},
     "output_type": "execute_result"
    }
   ],
   "source": [
    "dcm_path_list"
   ]
  },
  {
   "cell_type": "code",
   "execution_count": 341,
   "metadata": {},
   "outputs": [
    {
     "data": {
      "text/plain": [
       "'/Users/daleblack/Google Drive/Datasets/Canon_Aquilion_One_Vision/Large_rep2'"
      ]
     },
     "execution_count": 341,
     "metadata": {},
     "output_type": "execute_result"
    }
   ],
   "source": [
    "dcm_path_list[5]"
   ]
  },
  {
   "cell_type": "code",
   "execution_count": 342,
   "metadata": {},
   "outputs": [],
   "source": [
    "header, dcm_array, slice_thick_ori = dcm_reader(dcm_path_list[5])\n",
    "dcm_array_ori = dcm_array.copy()"
   ]
  },
  {
   "cell_type": "code",
   "execution_count": 343,
   "metadata": {},
   "outputs": [
    {
     "data": {
      "text/plain": [
       "1262.0"
      ]
     },
     "execution_count": 343,
     "metadata": {},
     "output_type": "execute_result"
    }
   ],
   "source": [
    "dcm_array.max()"
   ]
  },
  {
   "cell_type": "code",
   "execution_count": 344,
   "metadata": {},
   "outputs": [
    {
     "data": {
      "text/plain": [
       "-2048.0"
      ]
     },
     "execution_count": 344,
     "metadata": {},
     "output_type": "execute_result"
    }
   ],
   "source": [
    "dcm_array.min()"
   ]
  },
  {
   "cell_type": "markdown",
   "metadata": {},
   "source": [
    "# Whole heart mask"
   ]
  },
  {
   "cell_type": "markdown",
   "metadata": {},
   "source": [
    "## `find_circle`"
   ]
  },
  {
   "cell_type": "code",
   "execution_count": 345,
   "metadata": {},
   "outputs": [],
   "source": [
    "def find_circle(point_1, point_2, point_3): \n",
    "    x1, y1 = point_1\n",
    "    x2, y2 = point_2\n",
    "    x3, y3 = point_3\n",
    "    \n",
    "    x12 = x1 - x2 \n",
    "    x13 = x1 - x3  \n",
    "    y12 = y1 - y2  \n",
    "    y13 = y1 - y3 \n",
    "    y31 = y3 - y1  \n",
    "    y21 = y2 - y1\n",
    "    x31 = x3 - x1  \n",
    "    x21 = x2 - x1 \n",
    " \n",
    "    sx13 = x1**2 - x3**2  \n",
    "    sy13 = y1**2 - y3**2\n",
    "    sx21 = x2**2 - x1**2  \n",
    "    sy21 = y2**2 - y1**2  \n",
    "  \n",
    "    f = (((sx13) * (x12) + (sy13) * (x12) + (sx21) * (x13) +\\\n",
    "          (sy21) * (x13)) // (2 * ((y31) * (x12) - (y21) * (x13)))) \n",
    "              \n",
    "    g = (((sx13) * (y12) + (sy13) * (y12) + (sx21) * (y13) + (sy21) *\\\n",
    "          (y13)) // (2 * ((x31) * (y12) - (x21) * (y13))))  \n",
    "  \n",
    "    # eqn of circle be x^2 + y^2 + 2*g*x + 2*f*y + c = 0 where centre is (h = -g, k = -f)  \n",
    "    center_insert = [-g,-f]\n",
    "\n",
    "    return center_insert"
   ]
  },
  {
   "cell_type": "code",
   "execution_count": 346,
   "metadata": {},
   "outputs": [
    {
     "data": {
      "text/plain": [
       "[213, 252]"
      ]
     },
     "execution_count": 346,
     "metadata": {},
     "output_type": "execute_result"
    }
   ],
   "source": [
    "find_circle([309, 309], [312, 200], [155, 155])"
   ]
  },
  {
   "cell_type": "markdown",
   "metadata": {},
   "source": [
    "## `mask_heart`"
   ]
  },
  {
   "cell_type": "code",
   "execution_count": 347,
   "metadata": {},
   "outputs": [],
   "source": [
    "def mask_heart(array_used = None, radius_val = 95, slice_used_center = None):\n",
    "    try:\n",
    "        pixel_size = header.PixelSpacing[0]\n",
    "    except:\n",
    "        FOV = header.ReconstructionDiameter\n",
    "        matrix_size = header.Rows\n",
    "    \n",
    "        pixel_size = FOV / matrix_size\n",
    "    \n",
    "    radius = (radius_val/2) / pixel_size\n",
    "    \n",
    "    central_image = array_used[:,:,slice_used_center].copy()\n",
    "    \n",
    "    central_image[central_image > -200] = 0\n",
    "    central_image[central_image != 0] = 1\n",
    "\n",
    "    image_kernel = math.ceil(5 / header.PixelSpacing[0])\n",
    "    if image_kernel % 2 == 0:\n",
    "        image_kernel += 1\n",
    "    central_image = scipy.signal.medfilt2d(central_image, image_kernel)\n",
    "\n",
    "    center = [int(array_used.shape[0] / 2), int(array_used.shape[1] / 2)]\n",
    "    a = central_image.copy()\n",
    "    for index in range(int(array_used.shape[1] / 2)):\n",
    "        if (central_image[center[0] + index, center[1] + index] == 1 and\\\n",
    "            central_image[center[0] + index, center[1] + index + 5] == 1):\n",
    "            point_1 = [center[0] + index, center[1] + index]\n",
    "            break\n",
    "        else:\n",
    "            a[center[0] + index, center[1] + index] = 2\n",
    "            pass\n",
    "\n",
    "    for index in range(int(array_used.shape[1] / 2)):\n",
    "        if (central_image[center[0] + index, center[1] - index] == 1 and\\\n",
    "            central_image[center[0] + index, center[1] - index - 5] == 1):\n",
    "            point_2 = [center[0] + index, center[1] - index]\n",
    "            break\n",
    "        else:\n",
    "            a[center[0] + index, center[1] - index] = 2\n",
    "            pass\n",
    "        \n",
    "    for index in range(int(array_used.shape[1] / 2)):\n",
    "        if (central_image[center[0] - index, center[1] - index] == 1 and\\\n",
    "            central_image[center[0] - index, center[1] - index - 5] == 1):\n",
    "            point_3 = [center[0] - index, center[1] - index]\n",
    "            break\n",
    "        else:\n",
    "            a[center[0] - index, center[1] - index] = 2\n",
    "            pass\n",
    "        \n",
    "    center_insert = find_circle(point_1, point_2, point_3)\n",
    "\n",
    "    Y, X = np.ogrid[:header.Rows, :header.Columns]\n",
    "    dist_from_center = np.sqrt((X - center_insert[1])**2 + (Y-center_insert[0])**2)\n",
    "\n",
    "    mask = dist_from_center <= radius  \n",
    "    masked_array = np.zeros_like(array_used)\n",
    "    for index in range(array_used.shape[2]):\n",
    "        masked_array[:,:,index] = array_used[:,:,index] * mask\n",
    "\n",
    "    return masked_array, center_insert, mask"
   ]
  },
  {
   "cell_type": "code",
   "execution_count": 348,
   "metadata": {},
   "outputs": [],
   "source": [
    "dcm_array, center_insert, mask = mask_heart(array_used = dcm_array, slice_used_center = int(dcm_array.shape[2]/2))"
   ]
  },
  {
   "cell_type": "code",
   "execution_count": 349,
   "metadata": {},
   "outputs": [
    {
     "data": {
      "text/plain": [
       "[216, 258]"
      ]
     },
     "execution_count": 349,
     "metadata": {},
     "output_type": "execute_result"
    }
   ],
   "source": [
    "center_insert"
   ]
  },
  {
   "cell_type": "code",
   "execution_count": 350,
   "metadata": {},
   "outputs": [
    {
     "data": {
      "text/plain": [
       "<matplotlib.image.AxesImage at 0x13e13adc0>"
      ]
     },
     "execution_count": 350,
     "metadata": {},
     "output_type": "execute_result"
    },
    {
     "data": {
      "image/png": "[encoded data removed]",
      "text/plain": [
       "<Figure size 432x288 with 1 Axes>"
      ]
     },
     "metadata": {
      "needs_background": "light"
     },
     "output_type": "display_data"
    }
   ],
   "source": [
    "plt.scatter(center_insert[1], center_insert[0])\n",
    "plt.imshow(dcm_array_ori[:,:,10], cmap='gray')"
   ]
  },
  {
   "cell_type": "code",
   "execution_count": 351,
   "metadata": {},
   "outputs": [
    {
     "data": {
      "text/plain": [
       "<matplotlib.image.AxesImage at 0x13e17d370>"
      ]
     },
     "execution_count": 351,
     "metadata": {},
     "output_type": "execute_result"
    },
    {
     "data": {
      "image/png": "[encoded data removed]",
      "text/plain": [
       "<Figure size 432x288 with 1 Axes>"
      ]
     },
     "metadata": {
      "needs_background": "light"
     },
     "output_type": "display_data"
    }
   ],
   "source": [
    "plt.scatter(center_insert[1], center_insert[0])\n",
    "plt.imshow(mask[:,:], cmap='gray')"
   ]
  },
  {
   "cell_type": "code",
   "execution_count": 352,
   "metadata": {},
   "outputs": [
    {
     "data": {
      "text/plain": [
       "<matplotlib.image.AxesImage at 0x13e21e5e0>"
      ]
     },
     "execution_count": 352,
     "metadata": {},
     "output_type": "execute_result"
    },
    {
     "data": {
      "image/png": "[encoded data removed]",
      "text/plain": [
       "<Figure size 432x288 with 1 Axes>"
      ]
     },
     "metadata": {
      "needs_background": "light"
     },
     "output_type": "display_data"
    }
   ],
   "source": [
    "plt.imshow(dcm_array[:,:,24], cmap='gray')"
   ]
  },
  {
   "cell_type": "markdown",
   "metadata": {},
   "source": [
    "# Calcium rod mask"
   ]
  },
  {
   "cell_type": "markdown",
   "metadata": {},
   "source": [
    "## `get_calcium_slices`"
   ]
  },
  {
   "cell_type": "code",
   "execution_count": 353,
   "metadata": {},
   "outputs": [],
   "source": [
    "def get_calcium_slices(dcm_array, header, calcium_threshold=130, comp_connect=4):\n",
    "    array = dcm_array.copy()\n",
    "    array[array < 1.1*calcium_threshold] = 0\n",
    "    array[array > 0] = 1\n",
    "    array = array.astype(dtype = np.uint8)\n",
    "    \n",
    "    CCI_5mm_num_pixels = int(math.pi * (5/2)**2 / header.PixelSpacing[0]**2)\n",
    "    cal_rod_num_pixels = int(math.pi * (20/2)**2 / header.PixelSpacing[0]**2)\n",
    "\n",
    "    image_kernel = math.ceil(5 / header.PixelSpacing[0])\n",
    "    if image_kernel % 2 == 0:\n",
    "        image_kernel += 1\n",
    "    \n",
    "    slice_dict =  {}\n",
    "    large_index = []\n",
    "    cal_rod_dict = {}\n",
    "    for idx in range(array.shape[2]):\n",
    "        array_filtered = scipy.signal.medfilt2d(array[:,:,idx], image_kernel)\n",
    "        output = cv2.connectedComponentsWithStats(array_filtered, comp_connect,cv2.CV_32S)\n",
    "        count_5mm = 0\n",
    "        count = 0\n",
    "\n",
    "        for index in range(1,output[0]):\n",
    "            count += 1\n",
    "            area = output[2][index][4]\n",
    "            r1_1 = int(CCI_5mm_num_pixels * 0.6)\n",
    "            r1_2 = int(CCI_5mm_num_pixels * 1.5)\n",
    "            r2_1 = int(cal_rod_num_pixels * 0.7)\n",
    "            r2_2 = int(cal_rod_num_pixels * 1.3)\n",
    "            if area in range(r1_1, r1_2):\n",
    "                count_5mm += 1\n",
    "            elif area in range(r2_1, r2_2):\n",
    "                cal_rod_dict[index] = [int(output[3][index][1]), int(output[3][index][0])]\n",
    "        if (count_5mm > 0 and count_5mm < 4):\n",
    "            slice_dict[idx] = count_5mm\n",
    "            \n",
    "        poppable_keys = []\n",
    "        for key in cal_rod_dict.keys():\n",
    "            start_coordinate = [cal_rod_dict[key][0], cal_rod_dict[key][1]]\n",
    "            \n",
    "            x_right = 0\n",
    "            while array_filtered[start_coordinate[0], start_coordinate[1] + x_right] == 1:\n",
    "                x_right += 1\n",
    "            \n",
    "            x_left = 0\n",
    "            while array_filtered[start_coordinate[0], start_coordinate[1] - x_left] == 1:\n",
    "                x_left += 1\n",
    "            \n",
    "            y_top = 0\n",
    "            while array_filtered[start_coordinate[0] + y_top, start_coordinate[1]] == 1:\n",
    "                y_top += 1\n",
    "            \n",
    "            y_bottom = 0\n",
    "            while array_filtered[start_coordinate[0] - y_bottom, start_coordinate[1]] == 1:\n",
    "                y_bottom += 1\n",
    "                \n",
    "            x_dist = x_right + x_left\n",
    "            y_dist = y_top + y_bottom\n",
    "            \n",
    "            if x_dist not in range(int(0.7*y_dist), int(1.2*y_dist)):\n",
    "                poppable_keys.append(key)\n",
    "            else:\n",
    "                pass\n",
    "        for key in poppable_keys:\n",
    "            cal_rod_dict.pop(key)\n",
    "        \n",
    "        if len(cal_rod_dict) == 0:\n",
    "            pass\n",
    "        else:\n",
    "            large_index.append(idx)\n",
    "    return slice_dict, large_index"
   ]
  },
  {
   "cell_type": "code",
   "execution_count": 354,
   "metadata": {},
   "outputs": [],
   "source": [
    "slice_dict, large_index = get_calcium_slices(dcm_array, header)"
   ]
  },
  {
   "cell_type": "code",
   "execution_count": 355,
   "metadata": {},
   "outputs": [
    {
     "data": {
      "text/plain": [
       "({24: 3, 25: 2}, [10, 11, 12, 13, 14, 15, 16])"
      ]
     },
     "execution_count": 355,
     "metadata": {},
     "output_type": "execute_result"
    }
   ],
   "source": [
    "slice_dict, large_index"
   ]
  },
  {
   "cell_type": "code",
   "execution_count": 356,
   "metadata": {},
   "outputs": [
    {
     "data": {
      "text/plain": [
       "<matplotlib.image.AxesImage at 0x13e27bbe0>"
      ]
     },
     "execution_count": 356,
     "metadata": {},
     "output_type": "execute_result"
    },
    {
     "data": {
      "image/png": "[encoded data removed]",
      "text/plain": [
       "<Figure size 432x288 with 1 Axes>"
      ]
     },
     "metadata": {
      "needs_background": "light"
     },
     "output_type": "display_data"
    }
   ],
   "source": [
    "plt.imshow(dcm_array_ori[:, :, large_index[1]], cmap=\"gray\")"
   ]
  },
  {
   "cell_type": "markdown",
   "metadata": {},
   "source": [
    "## `get_calcium_center_slices`"
   ]
  },
  {
   "cell_type": "code",
   "execution_count": 357,
   "metadata": {},
   "outputs": [],
   "source": [
    "def get_calcium_center_slices(dcm_array, slice_dict, large_index):\n",
    "    \n",
    "    flipped_index = int(statistics.median(large_index))\n",
    "    # flipped_index = 31\n",
    "\n",
    "    edge_index = []\n",
    "    if flipped_index < (dcm_array.shape[2] / 2):\n",
    "        flipped = -1\n",
    "        for element in large_index:\n",
    "            # print(\"element: \", element)\n",
    "            # print(\"dcm_array.shape[2] / 2: \", dcm_array.shape[2] / 2)\n",
    "            if element > (dcm_array.shape[2] / 2):\n",
    "                edge_index.append(element)\n",
    "        if not edge_index:\n",
    "            pass\n",
    "        else:\n",
    "            for index_edge in range(min(edge_index), dcm_array.shape[2]):\n",
    "                try:\n",
    "                    del(slice_dict[index_edge])\n",
    "                except:\n",
    "                    pass\n",
    "            # print(\"slice_dict: \", slice_dict)\n",
    "            for element2 in edge_index:\n",
    "                large_index.remove(element2)\n",
    "                \n",
    "        for element in range(max(large_index)):\n",
    "            try:\n",
    "                del(slice_dict[element])\n",
    "            except:\n",
    "                pass        \n",
    "    else:\n",
    "        flipped = 1\n",
    "        for element in large_index:\n",
    "            if element < (dcm_array.shape[2] / 2):\n",
    "                edge_index.append(element)\n",
    "        if not edge_index:\n",
    "            pass\n",
    "        else:\n",
    "            for index_edge in range(max(edge_index)):\n",
    "                try:\n",
    "                    del(slice_dict[index_edge])\n",
    "                except:\n",
    "                    pass\n",
    "            for element2 in edge_index:\n",
    "                large_index.remove(element2)\n",
    "        for element in range(min(large_index), dcm_array.shape[2]):\n",
    "            try:\n",
    "                del(slice_dict[element])\n",
    "            except:\n",
    "                pass\n",
    "    return slice_dict, flipped, flipped_index"
   ]
  },
  {
   "cell_type": "code",
   "execution_count": 358,
   "metadata": {},
   "outputs": [],
   "source": [
    "slice_dict, flipped, flipped_index = get_calcium_center_slices(dcm_array, slice_dict, large_index)"
   ]
  },
  {
   "cell_type": "code",
   "execution_count": 359,
   "metadata": {},
   "outputs": [
    {
     "data": {
      "text/plain": [
       "({24: 3, 25: 2}, -1, 13)"
      ]
     },
     "execution_count": 359,
     "metadata": {},
     "output_type": "execute_result"
    }
   ],
   "source": [
    "slice_dict, flipped, flipped_index"
   ]
  },
  {
   "cell_type": "markdown",
   "metadata": {},
   "source": [
    "## `poppable_keys`"
   ]
  },
  {
   "cell_type": "code",
   "execution_count": 360,
   "metadata": {},
   "outputs": [],
   "source": [
    "def poppable_keys(flipped, flipped_index, header, slice_dict):\n",
    "    poppable_keys = []        \n",
    "    if flipped == -1:\n",
    "        for key in slice_dict.keys():\n",
    "            if key > (flipped_index + (55 / header.SliceThickness)):\n",
    "                poppable_keys.append(key)\n",
    "    elif flipped == 1:\n",
    "        for key in slice_dict.keys():\n",
    "            if key < (flipped_index - (55 / header.SliceThickness)):\n",
    "                poppable_keys.append(key)\n",
    "    for key in poppable_keys:\n",
    "        slice_dict.pop(key)\n",
    "    return slice_dict"
   ]
  },
  {
   "cell_type": "code",
   "execution_count": 361,
   "metadata": {},
   "outputs": [
    {
     "data": {
      "text/plain": [
       "{24: 3, 25: 2}"
      ]
     },
     "execution_count": 361,
     "metadata": {},
     "output_type": "execute_result"
    }
   ],
   "source": [
    "poppable_keys(flipped, flipped_index, header, slice_dict)"
   ]
  },
  {
   "cell_type": "markdown",
   "metadata": {},
   "source": [
    "## `compute_CCI`"
   ]
  },
  {
   "cell_type": "code",
   "execution_count": 362,
   "metadata": {},
   "outputs": [],
   "source": [
    "def compute_CCI(dcm_array, header, slice_dict, calcium_threshold=130):\n",
    "    max_key, _ = max(zip(slice_dict.values(), slice_dict.keys()))\n",
    "\n",
    "    max_keys = []\n",
    "    for key in slice_dict.keys():\n",
    "        if slice_dict[key] is max_key:\n",
    "            max_keys.append(key)\n",
    "            \n",
    "    slice_CCI = int(statistics.median(max_keys))\n",
    "    \n",
    "    array = dcm_array.copy()\n",
    "    array[array < calcium_threshold] = 0\n",
    "    array[array > 0] = 1\n",
    "    array = array.astype(dtype = np.uint8)\n",
    "    \n",
    "    calcium_image = array * dcm_array\n",
    "    quality_slice = round(slice_CCI - flipped * (20 / header.SliceThickness))\n",
    "\n",
    "    cal_rod_slice = slice_CCI + (flipped * int(30 / header.SliceThickness))\n",
    "    \n",
    "    return calcium_image, slice_CCI, quality_slice, cal_rod_slice"
   ]
  },
  {
   "cell_type": "code",
   "execution_count": 363,
   "metadata": {},
   "outputs": [],
   "source": [
    "calcium_image, slice_CCI, quality_slice, cal_rod_slice = compute_CCI(dcm_array, header, slice_dict)"
   ]
  },
  {
   "cell_type": "code",
   "execution_count": 364,
   "metadata": {},
   "outputs": [
    {
     "data": {
      "text/plain": [
       "(24, 31, 14)"
      ]
     },
     "execution_count": 364,
     "metadata": {},
     "output_type": "execute_result"
    }
   ],
   "source": [
    "slice_CCI, quality_slice, cal_rod_slice"
   ]
  },
  {
   "cell_type": "code",
   "execution_count": 365,
   "metadata": {},
   "outputs": [
    {
     "data": {
      "text/plain": [
       "<matplotlib.image.AxesImage at 0x13e2dad90>"
      ]
     },
     "execution_count": 365,
     "metadata": {},
     "output_type": "execute_result"
    },
    {
     "data": {
      "image/png": "[encoded data removed]",
      "text/plain": [
       "<Figure size 432x288 with 1 Axes>"
      ]
     },
     "metadata": {
      "needs_background": "light"
     },
     "output_type": "display_data"
    }
   ],
   "source": [
    "plt.imshow(calcium_image[:, :, 14], cmap=\"gray\")"
   ]
  },
  {
   "cell_type": "markdown",
   "metadata": {},
   "source": [
    "## `mask_rod`"
   ]
  },
  {
   "cell_type": "code",
   "execution_count": 366,
   "metadata": {},
   "outputs": [],
   "source": [
    "def mask_rod(dcm_array, header, calcium_threshold=130, comp_connect=4):\n",
    "    slice_dict, large_index = get_calcium_slices(dcm_array, header, calcium_threshold, comp_connect)\n",
    "    slice_dict, flipped, flipped_index = get_calcium_center_slices(dcm_array, slice_dict, large_index)\n",
    "    slice_dict = poppable_keys(flipped, flipped_index, header, slice_dict)\n",
    "    calcium_image, slice_CCI, quality_slice, cal_rod_slice = compute_CCI(\n",
    "        dcm_array, header, slice_dict, calcium_threshold\n",
    "        )\n",
    "    \n",
    "    return calcium_image, slice_CCI, quality_slice, cal_rod_slice"
   ]
  },
  {
   "cell_type": "code",
   "execution_count": 367,
   "metadata": {},
   "outputs": [],
   "source": [
    "calcium_image, CCI_slice, quality_slice, cal_rod_slice = mask_rod(dcm_array, header, calcium_threshold=130)"
   ]
  },
  {
   "cell_type": "code",
   "execution_count": 368,
   "metadata": {},
   "outputs": [
    {
     "data": {
      "text/plain": [
       "<matplotlib.image.AxesImage at 0x13e33cf70>"
      ]
     },
     "execution_count": 368,
     "metadata": {},
     "output_type": "execute_result"
    },
    {
     "data": {
      "image/png": "[encoded data removed]",
      "text/plain": [
       "<Figure size 432x288 with 1 Axes>"
      ]
     },
     "metadata": {
      "needs_background": "light"
     },
     "output_type": "display_data"
    }
   ],
   "source": [
    "plt.imshow(calcium_image[:, :, CCI_slice], cmap='gray')"
   ]
  },
  {
   "cell_type": "markdown",
   "metadata": {},
   "source": [
    "# Calcium inserts mask"
   ]
  },
  {
   "cell_type": "markdown",
   "metadata": {},
   "source": [
    "## `angle_calc`"
   ]
  },
  {
   "cell_type": "code",
   "execution_count": 369,
   "metadata": {},
   "outputs": [],
   "source": [
    "def angle_calc(side1, side2):\n",
    "    #Calculate angle between two sides of rectangular triangle\n",
    "    if side1 == 0:\n",
    "        angle = 0\n",
    "    elif side2 == 0:\n",
    "        angle = math.pi / 2\n",
    "    else:\n",
    "        angle = math.atan(side1 / side2)\n",
    "    \n",
    "    return angle"
   ]
  },
  {
   "cell_type": "code",
   "execution_count": 370,
   "metadata": {},
   "outputs": [
    {
     "data": {
      "text/plain": [
       "0.9272952180016122"
      ]
     },
     "execution_count": 370,
     "metadata": {},
     "output_type": "execute_result"
    }
   ],
   "source": [
    "angle_calc(4, 3)"
   ]
  },
  {
   "cell_type": "markdown",
   "metadata": {},
   "source": [
    "## `create_circular_mask`"
   ]
  },
  {
   "cell_type": "code",
   "execution_count": 371,
   "metadata": {},
   "outputs": [],
   "source": [
    "def create_circular_mask(h, w, center_circle, radius_circle):\n",
    "\n",
    "    Y, X = np.ogrid[:h, :w]\n",
    "    dist_from_center = np.sqrt((X - center_circle[0])**2 + (Y-center_circle[1])**2)\n",
    "\n",
    "    mask = dist_from_center <= radius_circle\n",
    "    \n",
    "    return mask"
   ]
  },
  {
   "cell_type": "code",
   "execution_count": 372,
   "metadata": {},
   "outputs": [],
   "source": [
    "mask1 = create_circular_mask(40, 40, (20, 20), 1)"
   ]
  },
  {
   "cell_type": "code",
   "execution_count": 373,
   "metadata": {},
   "outputs": [
    {
     "data": {
      "text/plain": [
       "<matplotlib.image.AxesImage at 0x13e3a72b0>"
      ]
     },
     "execution_count": 373,
     "metadata": {},
     "output_type": "execute_result"
    },
    {
     "data": {
      "image/png": "[encoded data removed]",
      "text/plain": [
       "<Figure size 432x288 with 1 Axes>"
      ]
     },
     "metadata": {
      "needs_background": "light"
     },
     "output_type": "display_data"
    }
   ],
   "source": [
    "plt.imshow(mask1, cmap=\"gray\")"
   ]
  },
  {
   "cell_type": "markdown",
   "metadata": {},
   "source": [
    "## `calc_output`"
   ]
  },
  {
   "cell_type": "code",
   "execution_count": 374,
   "metadata": {},
   "outputs": [],
   "source": [
    "def calc_output(dcm_array, CCI_slice, calcium_threshold = 130, comp_connect=4, print_plot=False):\n",
    "    # Actual scoring for CCI insert\n",
    "    # First step is to remove slices without calcium from arrays            \n",
    "    CCI_min = int((CCI_slice - math.ceil(5 / header.SliceThickness)) - 1)\n",
    "    CCI_max = int((CCI_slice + math.ceil(5 / header.SliceThickness)) + 1)\n",
    "    central_CCI = int((CCI_max - CCI_min)/2)\n",
    "    \n",
    "    if CCI_min < 0:\n",
    "        CCI_min = 0\n",
    "    if CCI_max > dcm_array.shape[2]:\n",
    "        CCI_max = dcm_array.shape[2]\n",
    "    \n",
    "    CCI_array = dcm_array[:,:,CCI_min:CCI_max].copy()\n",
    "    \n",
    "    CCI_array_binary = CCI_array.copy()\n",
    "    CCI_array_binary[CCI_array_binary < 1.0*calcium_threshold] = 0\n",
    "    CCI_array_binary[CCI_array_binary > 0] = 1\n",
    "    CCI_array_binary = CCI_array_binary.astype(dtype = np.uint8)\n",
    "    inp = CCI_array_binary[:,:,central_CCI - 1] + CCI_array_binary[:,:,central_CCI] + CCI_array_binary[:,:,central_CCI + 1]\n",
    "    \n",
    "    _, _, _, centroids = cv2.connectedComponentsWithStats(inp, comp_connect, cv2.CV_32S)\n",
    "    \n",
    "    centroids = np.delete(centroids,0,0)\n",
    "    \n",
    "\n",
    "    image_kernel = math.ceil(3 / header.PixelSpacing[0])\n",
    "    if image_kernel % 2 == 0:\n",
    "        image_kernel += 1\n",
    "        \n",
    "    image_for_center = scipy.signal.medfilt2d(CCI_array_binary[:,:,central_CCI - 1], image_kernel) +\\\n",
    "                       scipy.signal.medfilt2d(CCI_array_binary[:,:,central_CCI], image_kernel) +\\\n",
    "                       scipy.signal.medfilt2d(CCI_array_binary[:,:,central_CCI + 1], image_kernel)\n",
    "                       \n",
    "    if print_plot:\n",
    "        plt.imshow(image_for_center)\n",
    "        plt.show()\n",
    "        plt.imshow(image_for_center, cmap='bone')\n",
    "        plt.xticks(fontsize = 10)\n",
    "        plt.yticks(fontsize = 10)\n",
    "        plt.show()\n",
    "    \n",
    "    output = cv2.connectedComponentsWithStats(image_for_center, comp_connect,cv2.CV_32S)\n",
    "    return output, CCI_array\n"
   ]
  },
  {
   "cell_type": "code",
   "execution_count": 375,
   "metadata": {},
   "outputs": [],
   "source": [
    "output, CCI_array = calc_output(dcm_array, CCI_slice, print_plot=False)"
   ]
  },
  {
   "cell_type": "code",
   "execution_count": 376,
   "metadata": {},
   "outputs": [
    {
     "data": {
      "text/plain": [
       "(7,\n",
       " array([[0, 0, 0, ..., 0, 0, 0],\n",
       "        [0, 0, 0, ..., 0, 0, 0],\n",
       "        [0, 0, 0, ..., 0, 0, 0],\n",
       "        ...,\n",
       "        [0, 0, 0, ..., 0, 0, 0],\n",
       "        [0, 0, 0, ..., 0, 0, 0],\n",
       "        [0, 0, 0, ..., 0, 0, 0]], dtype=int32),\n",
       " array([[     0,      0,    512,    512, 261599],\n",
       "        [   285,    144,     14,     14,    135],\n",
       "        [   276,    170,      8,      8,     45],\n",
       "        [   173,    213,     16,     14,    170],\n",
       "        [   201,    217,     10,      9,     67],\n",
       "        [   281,    258,      7,      6,     28],\n",
       "        [   293,    276,     12,     12,    100]], dtype=int32),\n",
       " array([[255.51969235, 255.58963528],\n",
       "        [291.35555556, 150.63703704],\n",
       "        [279.91111111, 173.48888889],\n",
       "        [180.24705882, 220.03529412],\n",
       "        [205.29850746, 220.86567164],\n",
       "        [284.        , 260.32142857],\n",
       "        [298.18      , 281.63      ]]))"
      ]
     },
     "execution_count": 376,
     "metadata": {},
     "output_type": "execute_result"
    }
   ],
   "source": [
    "output"
   ]
  },
  {
   "cell_type": "code",
   "execution_count": 377,
   "metadata": {},
   "outputs": [
    {
     "data": {
      "text/plain": [
       "<matplotlib.image.AxesImage at 0x13e410670>"
      ]
     },
     "execution_count": 377,
     "metadata": {},
     "output_type": "execute_result"
    },
    {
     "data": {
      "image/png": "[encoded data removed]",
      "text/plain": [
       "<Figure size 432x288 with 1 Axes>"
      ]
     },
     "metadata": {
      "needs_background": "light"
     },
     "output_type": "display_data"
    }
   ],
   "source": [
    "plt.imshow(output[1])"
   ]
  },
  {
   "cell_type": "code",
   "execution_count": 378,
   "metadata": {},
   "outputs": [
    {
     "data": {
      "text/plain": [
       "(512, 512, 6)"
      ]
     },
     "execution_count": 378,
     "metadata": {},
     "output_type": "execute_result"
    }
   ],
   "source": [
    "CCI_array.shape"
   ]
  },
  {
   "cell_type": "code",
   "execution_count": 379,
   "metadata": {},
   "outputs": [
    {
     "data": {
      "text/plain": [
       "<matplotlib.image.AxesImage at 0x13e46cfa0>"
      ]
     },
     "execution_count": 379,
     "metadata": {},
     "output_type": "execute_result"
    },
    {
     "data": {
      "image/png": "[encoded data removed]",
      "text/plain": [
       "<Figure size 432x288 with 1 Axes>"
      ]
     },
     "metadata": {
      "needs_background": "light"
     },
     "output_type": "display_data"
    }
   ],
   "source": [
    "plt.imshow(CCI_array[:, :, 5], cmap=\"gray\")"
   ]
  },
  {
   "cell_type": "markdown",
   "metadata": {},
   "source": [
    "## `center_points`"
   ]
  },
  {
   "cell_type": "code",
   "execution_count": 448,
   "metadata": {},
   "outputs": [],
   "source": [
    "def center_points(output, tmp_center, CCI_slice):\n",
    "    sizes = []\n",
    "    for size_index in range(1,len(output[2])):\n",
    "        area = output[2][size_index][4]\n",
    "        sizes.append(area)\n",
    "        # print(\"output[2][size_index][4]: \", output[2][size_index][4])\n",
    "\n",
    "    # global largest \n",
    "    largest = {}\n",
    "    for index in range(1,len(output[3])):\n",
    "        x = output[3][index][0]\n",
    "        y = output[3][index][1]\n",
    "        dist_loc = math.sqrt((tmp_center[1] - x)**2 +\\\n",
    "                             (tmp_center[0] - y)**2)\n",
    "        dist_loc *= header.PixelSpacing[0]\n",
    "        if dist_loc > 31:\n",
    "            largest[index] = [int(output[3][index][1]),int(output[3][index][0])]\n",
    "        else:\n",
    "            pass\n",
    "        # print(\"x: \", x, \"y: \", y, \"dist_loc: \", dist_loc)\n",
    "\n",
    "    # print(\"largest: \", largest)\n",
    "    max_dict = {}\n",
    "    for key in largest.keys():\n",
    "        tmp_arr = create_circular_mask(header.Rows, header.Columns,\\\n",
    "                                       [largest[key][1],largest[key][0]],\\\n",
    "                                       math.ceil(2.5 / header.PixelSpacing[0]))\n",
    "        # print(header.Rows, header.Columns, [largest[key][1],largest[key][0]], math.ceil(2.5 / header.PixelSpacing[0]))\n",
    "        tmp_arr = tmp_arr * dcm_array[:,:,CCI_slice] +\\\n",
    "                    tmp_arr * dcm_array[:,:,CCI_slice - 1] +\\\n",
    "                    tmp_arr * dcm_array[:,:,CCI_slice + 1]\n",
    "        tmp_arr[tmp_arr == 0] = np.nan\n",
    "        max_dict[key] = np.nanmedian(tmp_arr)\n",
    "\n",
    "    # print(\"max_dict: \", max_dict)\n",
    "\n",
    "    large1_index, large1_key = max(zip(max_dict.values(), max_dict.keys()))\n",
    "    max_dict.pop(large1_key)\n",
    "    large2_index, large2_key = max(zip(max_dict.values(), max_dict.keys()))\n",
    "    max_dict.pop(large2_key)\n",
    "    large3_index, large3_key = max(zip(max_dict.values(), max_dict.keys()))\n",
    "\n",
    "    center1 = largest[large1_key]\n",
    "    center2 = largest[large2_key]  \n",
    "    center3 = largest[large3_key]       \n",
    "\n",
    "    # global center\n",
    "    center = find_circle(center1, center2, center3)\n",
    "    return center, center1, center2, center3"
   ]
  },
  {
   "cell_type": "code",
   "execution_count": 449,
   "metadata": {},
   "outputs": [
    {
     "data": {
      "text/plain": [
       "([218, 257], [220, 180], [150, 291], [281, 298])"
      ]
     },
     "execution_count": 449,
     "metadata": {},
     "output_type": "execute_result"
    }
   ],
   "source": [
    "center_points(output, center_insert, CCI_slice)"
   ]
  },
  {
   "cell_type": "code",
   "execution_count": 382,
   "metadata": {},
   "outputs": [
    {
     "data": {
      "text/plain": [
       "[216, 258]"
      ]
     },
     "execution_count": 382,
     "metadata": {},
     "output_type": "execute_result"
    }
   ],
   "source": [
    "center_insert"
   ]
  },
  {
   "cell_type": "markdown",
   "metadata": {},
   "source": [
    "## `calc_centers`"
   ]
  },
  {
   "cell_type": "code",
   "execution_count": 388,
   "metadata": {},
   "outputs": [],
   "source": [
    "def calc_centers(output, tmp_center, CCI_slice):\n",
    "    center, center1, center2, center3 = center_points(output, tmp_center, CCI_slice)\n",
    "    centers = {}\n",
    "    for size_index4 in (center1, center2, center3):\n",
    "        center_index = size_index4\n",
    "        side_x = abs(center[0]-center_index[0])\n",
    "        side_y = abs(center[1]-center_index[1])\n",
    "        \n",
    "        angle = angle_calc(side_x, side_y)\n",
    "        if (center_index[0] < center[0] and center_index[1] < center[1]):\n",
    "                medium_calc = [int(center_index[0] + (12.5 / header.PixelSpacing[0]) * math.sin(angle)),\\\n",
    "                               int((center_index[1] + (12.5 / header.PixelSpacing[1]) * math.cos(angle)))]\n",
    "            \n",
    "                low_calc = [int(center_index[0] + (25 / header.PixelSpacing[0]) * math.sin(angle)),\\\n",
    "                            int((center_index[1] + (25 / header.PixelSpacing[1]) * math.cos(angle)))]\n",
    "        elif (center_index[0] < center[0] and center_index[1] > center[1]):\n",
    "                medium_calc = [int(center_index[0] + (12.5 / header.PixelSpacing[0]) * math.sin(angle)),\\\n",
    "                               int((center_index[1] - (12.5 / header.PixelSpacing[1]) * math.cos(angle)))]\n",
    "            \n",
    "                low_calc = [int(center_index[0] + (25 / header.PixelSpacing[0]) * math.sin(angle)),\\\n",
    "                            int((center_index[1] - (25 / header.PixelSpacing[1]) * math.cos(angle)))] \n",
    "        elif (center_index[0] > center[0] and center_index[1] < center[1]):\n",
    "                medium_calc = [int(center_index[0] - (12.5 / header.PixelSpacing[0]) * math.sin(angle)),\\\n",
    "                               int((center_index[1] + (12.5 / header.PixelSpacing[1]) * math.cos(angle)))]\n",
    "            \n",
    "                low_calc = [int(center_index[0] - (25 / header.PixelSpacing[0]) * math.sin(angle)),\\\n",
    "                            int((center_index[1] + (25 / header.PixelSpacing[1]) * math.cos(angle)))]\n",
    "        elif (center_index[0] > center[0] and center_index[1] > center[1]):\n",
    "                medium_calc = [int(center_index[0] - (12.5 / header.PixelSpacing[0]) * math.sin(angle)),\\\n",
    "                               int((center_index[1] - (12.5 / header.PixelSpacing[1]) * math.cos(angle)))]\n",
    "            \n",
    "                low_calc = [int(center_index[0] - (25 / header.PixelSpacing[0]) * math.sin(angle)),\\\n",
    "                            int((center_index[1] - (25 / header.PixelSpacing[1]) * math.cos(angle)))]\n",
    "        elif (side_x == 0 and center_index[1] < center[1]):\n",
    "                medium_calc = [int(center_index[0]), int(center_index[1] + (12.5 / header.PixelSpacing[1]))]\n",
    "            \n",
    "                low_calc = [int(center_index[0]), int(center_index[1] + (25 / header.PixelSpacing[1]))]\n",
    "        elif (side_x == 0 and center_index[1] > center[1]):\n",
    "                medium_calc = [int(center_index[0]), int(center_index[1] - (12.5 / header.PixelSpacing[1]))]\n",
    "            \n",
    "                low_calc = [int(center_index[0]), int(center_index[1] - (25 / header.PixelSpacing[1]))]\n",
    "        elif (center_index[0] > center[0] and side_y == 0):\n",
    "                medium_calc = [int(center_index[0] - (12.5 / header.PixelSpacing[0])), int(center_index[1])]\n",
    "            \n",
    "                low_calc = [int(center_index[0] - (25 / header.PixelSpacing[0])), int(center_index[1])]\n",
    "        elif (center_index[0] > center[0] and side_y == 0):\n",
    "                medium_calc = [int(center_index[0] + (12.5 / header.PixelSpacing[0])), int(center_index[1])]\n",
    "            \n",
    "                low_calc = [int(center_index[0] + (25 / header.PixelSpacing[0])), int(center_index[1])]\n",
    "        else:\n",
    "                print(\"unknown angle.. error!\")\n",
    "                \n",
    "        if size_index4 == center1:\n",
    "            centers['Large_HD'] = ([center_index])\n",
    "            centers['Medium_HD'] = ([medium_calc])\n",
    "            centers['Small_HD'] = ([low_calc])            \n",
    "        \n",
    "        elif size_index4 == center2:\n",
    "            centers['Large_MD'] = ([center_index])\n",
    "            centers['Medium_MD'] = ([medium_calc])\n",
    "            centers['Small_MD'] = ([low_calc])    \n",
    "        \n",
    "        elif size_index4 == center3:\n",
    "            centers['Large_LD'] = ([center_index])\n",
    "            centers['Medium_LD'] = ([medium_calc])\n",
    "            centers['Small_LD'] = ([low_calc])   \n",
    "        \n",
    "        else:\n",
    "            pass\n",
    "    \n",
    "    return centers"
   ]
  },
  {
   "cell_type": "code",
   "execution_count": 389,
   "metadata": {},
   "outputs": [
    {
     "name": "stdout",
     "output_type": "stream",
     "text": [
      "x:  291.35555555555555 y:  150.63703703703703\n",
      "dist_loc:  35.81038969777796\n",
      "x:  279.9111111111111 y:  173.48888888888888\n",
      "dist_loc:  23.338909853834906\n",
      "x:  180.24705882352941 y:  220.03529411764706\n",
      "dist_loc:  37.994501223567624\n",
      "x:  205.29850746268656 y:  220.86567164179104\n",
      "dist_loc:  25.82770635792684\n",
      "x:  284.0 y:  260.32142857142856\n",
      "dist_loc:  25.075741371016772\n",
      "x:  298.18 y:  281.63\n",
      "dist_loc:  37.55295331154662\n"
     ]
    },
    {
     "data": {
      "text/plain": [
       "{'Large_HD': [[220, 180]],\n",
       " 'Medium_HD': [[219, 205]],\n",
       " 'Small_HD': [[218, 231]],\n",
       " 'Large_MD': [[150, 291]],\n",
       " 'Medium_MD': [[172, 279]],\n",
       " 'Small_MD': [[195, 268]],\n",
       " 'Large_LD': [[281, 298]],\n",
       " 'Medium_LD': [[259, 284]],\n",
       " 'Small_LD': [[238, 270]]}"
      ]
     },
     "execution_count": 389,
     "metadata": {},
     "output_type": "execute_result"
    }
   ],
   "source": [
    "calc_centers(output, center_insert, CCI_slice)"
   ]
  },
  {
   "cell_type": "markdown",
   "metadata": {},
   "source": [
    "## `mask_inserts`"
   ]
  },
  {
   "cell_type": "code",
   "execution_count": 385,
   "metadata": {},
   "outputs": [],
   "source": [
    "def mask_inserts(dcm_array, CCI_slice, center, calcium_threshold = 130, comp_connect=4, print_plot = False):\n",
    "    output, CCI_array = calc_output(dcm_array, CCI_slice, calcium_threshold, comp_connect, print_plot)\n",
    "    tmp_center = center.copy()\n",
    "    calc_size_density_VS_AS_MS = calc_centers(output, tmp_center, CCI_slice)\n",
    "\n",
    "    for key in calc_size_density_VS_AS_MS.keys():\n",
    "        calc_size_density_VS_AS_MS[key].append(0)\n",
    "        calc_size_density_VS_AS_MS[key].append(0)\n",
    "        calc_size_density_VS_AS_MS[key].append(0)\n",
    "    \n",
    "    mask_L_HD = create_circular_mask(header.Columns, header.Rows, [calc_size_density_VS_AS_MS['Large_HD'][0][1],\\\n",
    "                       calc_size_density_VS_AS_MS['Large_HD'][0][0]],math.ceil((5 / header.PixelSpacing[0])/2) + 1)\n",
    "    mask_L_MD = create_circular_mask(header.Columns, header.Rows, [calc_size_density_VS_AS_MS['Large_MD'][0][1],\\\n",
    "                       calc_size_density_VS_AS_MS['Large_MD'][0][0]],math.ceil((5 / header.PixelSpacing[0])/2) + 1)\n",
    "    mask_L_LD = create_circular_mask(header.Columns, header.Rows, [calc_size_density_VS_AS_MS['Large_LD'][0][1],\\\n",
    "                       calc_size_density_VS_AS_MS['Large_LD'][0][0]],math.ceil((5 / header.PixelSpacing[0])/2) + 1)   \n",
    "    mask_M_HD = create_circular_mask(header.Columns, header.Rows, [calc_size_density_VS_AS_MS['Medium_HD'][0][1],\\\n",
    "                       calc_size_density_VS_AS_MS['Medium_HD'][0][0]],math.ceil((3 / header.PixelSpacing[0])/2) + 1)\n",
    "    mask_M_MD = create_circular_mask(header.Columns, header.Rows, [calc_size_density_VS_AS_MS['Medium_MD'][0][1],\\\n",
    "                       calc_size_density_VS_AS_MS['Medium_MD'][0][0]],math.ceil((3 / header.PixelSpacing[0])/2) + 1)\n",
    "    mask_M_LD = create_circular_mask(header.Columns, header.Rows, [calc_size_density_VS_AS_MS['Medium_LD'][0][1],\\\n",
    "                       calc_size_density_VS_AS_MS['Medium_LD'][0][0]],math.ceil((3 / header.PixelSpacing[0])/2) + 1) \n",
    "    mask_S_HD = create_circular_mask(header.Columns, header.Rows, [calc_size_density_VS_AS_MS['Small_HD'][0][1],\\\n",
    "                       calc_size_density_VS_AS_MS['Small_HD'][0][0]],math.ceil((1 / header.PixelSpacing[0])/2) + 1)\n",
    "    mask_S_MD = create_circular_mask(header.Columns, header.Rows, [calc_size_density_VS_AS_MS['Small_MD'][0][1],\\\n",
    "                       calc_size_density_VS_AS_MS['Small_MD'][0][0]],math.ceil((1 / header.PixelSpacing[0])/2) + 1)\n",
    "    mask_S_LD = create_circular_mask(header.Columns, header.Rows, [calc_size_density_VS_AS_MS['Small_LD'][0][1],\\\n",
    "                       calc_size_density_VS_AS_MS['Small_LD'][0][0]],math.ceil((1 / header.PixelSpacing[0])/2) + 1) \n",
    "    \n",
    "    \n",
    "    masks1 = mask_L_HD + mask_M_HD + mask_S_HD\n",
    "    masks2 = mask_L_MD + mask_M_MD + mask_S_MD\n",
    "    masks3 = mask_L_LD + mask_M_LD + mask_S_LD\n",
    "\n",
    "    if print_plot:\n",
    "        plt.imshow(masks1 + masks2 + masks3, cmap='bone')\n",
    "        plt.xticks(fontsize = 10)\n",
    "        plt.yticks(fontsize = 10)\n",
    "        plt.show()\n",
    "\n",
    "    return mask_L_HD, mask_M_HD, mask_S_HD, mask_L_MD, mask_M_MD, mask_S_MD, mask_L_LD, mask_M_LD, mask_S_LD"
   ]
  },
  {
   "cell_type": "code",
   "execution_count": 386,
   "metadata": {},
   "outputs": [
    {
     "name": "stdout",
     "output_type": "stream",
     "text": [
      "x:  291.35555555555555 y:  150.63703703703703\n",
      "dist_loc:  35.81038969777796\n",
      "x:  279.9111111111111 y:  173.48888888888888\n",
      "dist_loc:  23.338909853834906\n",
      "x:  180.24705882352941 y:  220.03529411764706\n",
      "dist_loc:  37.994501223567624\n",
      "x:  205.29850746268656 y:  220.86567164179104\n",
      "dist_loc:  25.82770635792684\n",
      "x:  284.0 y:  260.32142857142856\n",
      "dist_loc:  25.075741371016772\n",
      "x:  298.18 y:  281.63\n",
      "dist_loc:  37.55295331154662\n"
     ]
    }
   ],
   "source": [
    "mask1, mask2, mask3, mask4, mask5, mask6, mask7, mask8, mask9 = mask_inserts(dcm_array, CCI_slice, center_insert)"
   ]
  },
  {
   "cell_type": "code",
   "execution_count": 387,
   "metadata": {},
   "outputs": [
    {
     "data": {
      "text/plain": [
       "<matplotlib.image.AxesImage at 0x13e4e4dc0>"
      ]
     },
     "execution_count": 387,
     "metadata": {},
     "output_type": "execute_result"
    },
    {
     "data": {
      "image/png": "[encoded data removed]",
      "text/plain": [
       "<Figure size 432x288 with 1 Axes>"
      ]
     },
     "metadata": {
      "needs_background": "light"
     },
     "output_type": "display_data"
    }
   ],
   "source": [
    "plt.imshow(mask1 + mask2 + mask3 + mask4 + mask5 + mask6 + mask7 + mask8 + mask9, cmap=\"gray\")"
   ]
  },
  {
   "cell_type": "code",
   "execution_count": null,
   "metadata": {},
   "outputs": [],
   "source": []
  }
 ],
 "metadata": {
  "interpreter": {
   "hash": "31f2aee4e71d21fbe5cf8b01ff0e069b9275f58929596ceb00d14d90e3e16cd6"
  },
  "kernelspec": {
   "display_name": "Python 3.8.2 64-bit",
   "name": "python3"
  },
  "language_info": {
   "codemirror_mode": {
    "name": "ipython",
    "version": 3
   },
   "file_extension": ".py",
   "mimetype": "text/x-python",
   "name": "python",
   "nbconvert_exporter": "python",
   "pygments_lexer": "ipython3",
   "version": "3.8.2"
  },
  "orig_nbformat": 4
 },
 "nbformat": 4,
 "nbformat_minor": 2
}
